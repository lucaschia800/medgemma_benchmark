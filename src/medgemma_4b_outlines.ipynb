{
 "cells": [
  {
   "cell_type": "code",
   "execution_count": 4,
   "id": "44e77171",
   "metadata": {},
   "outputs": [],
   "source": [
    "import outlines\n",
    "import transformers\n",
    "import torch"
   ]
  },
  {
   "cell_type": "code",
   "execution_count": 5,
   "id": "15fa7685",
   "metadata": {},
   "outputs": [
    {
     "name": "stdout",
     "output_type": "stream",
     "text": [
      "['Anthropic', 'AsyncBlackBoxModel', 'AsyncOllama', 'AsyncSGLang', 'AsyncTGI', 'AsyncVLLM', 'BlackBoxModel', 'Dottxt', 'Gemini', 'LlamaCpp', 'MLXLM', 'Model', 'ModelTypeAdapter', 'Ollama', 'OpenAI', 'SGLang', 'SteerableModel', 'TGI', 'TransformerTokenizer', 'Transformers', 'TransformersMultiModal', 'Union', 'VLLM', 'VLLMOffline', '__builtins__', '__cached__', '__doc__', '__file__', '__loader__', '__name__', '__package__', '__path__', '__spec__', 'anthropic', 'base', 'dottxt', 'from_anthropic', 'from_dottxt', 'from_gemini', 'from_llamacpp', 'from_mlxlm', 'from_ollama', 'from_openai', 'from_sglang', 'from_tgi', 'from_transformers', 'from_vllm', 'from_vllm_offline', 'gemini', 'llamacpp', 'mlxlm', 'ollama', 'openai', 'sglang', 'tgi', 'tokenizer', 'transformers', 'utils', 'vllm', 'vllm_offline']\n"
     ]
    }
   ],
   "source": [
    "print(dir(outlines.models))\n"
   ]
  },
  {
   "cell_type": "code",
   "execution_count": null,
   "id": "dd890497",
   "metadata": {},
   "outputs": [],
   "source": []
  },
  {
   "cell_type": "code",
   "execution_count": 6,
   "id": "d13859e3",
   "metadata": {},
   "outputs": [
    {
     "ename": "AttributeError",
     "evalue": "module 'outlines.models' has no attribute 'transformers_vision'",
     "output_type": "error",
     "traceback": [
      "\u001b[31m---------------------------------------------------------------------------\u001b[39m",
      "\u001b[31mAttributeError\u001b[39m                            Traceback (most recent call last)",
      "\u001b[36mCell\u001b[39m\u001b[36m \u001b[39m\u001b[32mIn[6]\u001b[39m\u001b[32m, line 1\u001b[39m\n\u001b[32m----> \u001b[39m\u001b[32m1\u001b[39m model = \u001b[43moutlines\u001b[49m\u001b[43m.\u001b[49m\u001b[43mmodels\u001b[49m\u001b[43m.\u001b[49m\u001b[43mtransformers_vision\u001b[49m(  \n\u001b[32m      2\u001b[39m     \u001b[33m\"\u001b[39m\u001b[33mgoogle/medgemma-4b-it\u001b[39m\u001b[33m\"\u001b[39m,  \n\u001b[32m      3\u001b[39m     model_class=AutoModelForImageTextToText,  \n\u001b[32m      4\u001b[39m     device= \u001b[33m\"\u001b[39m\u001b[33mauto\u001b[39m\u001b[33m\"\u001b[39m  \n\u001b[32m      5\u001b[39m )\n",
      "\u001b[31mAttributeError\u001b[39m: module 'outlines.models' has no attribute 'transformers_vision'"
     ]
    }
   ],
   "source": [
    "model = outlines.models.transformers_vision(  \n",
    "    \"google/medgemma-4b-it\",  \n",
    "    model_class=AutoModelForImageTextToText,  \n",
    "    device= \"auto\"  \n",
    ")"
   ]
  }
 ],
 "metadata": {
  "kernelspec": {
   "display_name": "Python 3",
   "language": "python",
   "name": "python3"
  },
  "language_info": {
   "codemirror_mode": {
    "name": "ipython",
    "version": 3
   },
   "file_extension": ".py",
   "mimetype": "text/x-python",
   "name": "python",
   "nbconvert_exporter": "python",
   "pygments_lexer": "ipython3",
   "version": "3.11.13"
  }
 },
 "nbformat": 4,
 "nbformat_minor": 5
}
