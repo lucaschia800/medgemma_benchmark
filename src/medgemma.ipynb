{
 "cells": [
  {
   "cell_type": "code",
   "execution_count": 1,
   "id": "15b2acda",
   "metadata": {},
   "outputs": [
    {
     "name": "stderr",
     "output_type": "stream",
     "text": [
      "/opt/homebrew/lib/python3.11/site-packages/tqdm/auto.py:21: TqdmWarning: IProgress not found. Please update jupyter and ipywidgets. See https://ipywidgets.readthedocs.io/en/stable/user_install.html\n",
      "  from .autonotebook import tqdm as notebook_tqdm\n"
     ]
    }
   ],
   "source": [
    "from transformers import AutoProcessor, AutoModelForImageTextToText\n",
    "import json\n",
    "import outlines\n",
    "from pydantic import BaseModel, Field"
   ]
  },
  {
   "cell_type": "code",
   "execution_count": null,
   "id": "2a0afce8",
   "metadata": {},
   "outputs": [],
   "source": [
    "processor = AutoProcessor.from_pretrained(\"google/medgemma-4b-it\")\n",
    "model = AutoModelForImageTextToText.from_pretrained(\"google/medgemma-4b-it\")"
   ]
  },
  {
   "cell_type": "code",
   "execution_count": null,
   "id": "52e61a94",
   "metadata": {},
   "outputs": [],
   "source": []
  },
  {
   "cell_type": "code",
   "execution_count": null,
   "id": "0a7494bc",
   "metadata": {},
   "outputs": [],
   "source": [
    "print(processor.tokenizer)"
   ]
  },
  {
   "cell_type": "code",
   "execution_count": null,
   "id": "f528fa3e",
   "metadata": {},
   "outputs": [],
   "source": [
    "model - "
   ]
  },
  {
   "cell_type": "code",
   "execution_count": null,
   "id": "fc69abb7",
   "metadata": {},
   "outputs": [],
   "source": [
    "conversation = [\n",
    "    {\n",
    "        'role': 'user',\n",
    "        'content' : [\n",
    "            {'type' : 'text', 'text' : 'What is the capital of France?'}\n",
    "        ]\n",
    "        \n",
    "    }\n",
    "]"
   ]
  },
  {
   "cell_type": "code",
   "execution_count": null,
   "id": "f4c0058a",
   "metadata": {},
   "outputs": [],
   "source": [
    "class TestOutput(BaseModel):\n",
    "    answer: str = Field(description = \"The answer to the question\")\n",
    "    reasoning: str = Field(description = \"The reasoning for the answer\")"
   ]
  },
  {
   "cell_type": "code",
   "execution_count": null,
   "id": "ae7b9aaf",
   "metadata": {},
   "outputs": [],
   "source": [
    "inputs = processor.apply_chat_template(\n",
    "    conversation,\n",
    "    add_generation_prompt=True,\n",
    "    tokenize = True,\n",
    "    return_dict = True,\n",
    "    return_tensors = 'pt'\n",
    "    \n",
    ")\n"
   ]
  },
  {
   "cell_type": "code",
   "execution_count": null,
   "id": "ce0174cc",
   "metadata": {},
   "outputs": [],
   "source": [
    "print(inputs)\n",
    "print(processor.decode(inputs['input_ids'][0]))"
   ]
  },
  {
   "cell_type": "code",
   "execution_count": null,
   "id": "a9d158e5",
   "metadata": {},
   "outputs": [],
   "source": [
    "outputs = model.generate(**inputs)\n",
    "\n",
    "response = processor.decode(outputs[0], clean_up_tokenization_spaces=True)\n",
    "\n",
    "print(response)"
   ]
  }
 ],
 "metadata": {
  "kernelspec": {
   "display_name": "Python 3",
   "language": "python",
   "name": "python3"
  },
  "language_info": {
   "codemirror_mode": {
    "name": "ipython",
    "version": 3
   },
   "file_extension": ".py",
   "mimetype": "text/x-python",
   "name": "python",
   "nbconvert_exporter": "python",
   "pygments_lexer": "ipython3",
   "version": "3.11.13"
  }
 },
 "nbformat": 4,
 "nbformat_minor": 5
}
