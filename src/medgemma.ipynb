{
 "cells": [
  {
   "cell_type": "code",
   "execution_count": 7,
   "id": "15b2acda",
   "metadata": {},
   "outputs": [],
   "source": [
    "from transformers import AutoProcessor, AutoModelForImageTextToText\n",
    "import json\n",
    "import outlines\n",
    "from pydantic import BaseModel, Field"
   ]
  },
  {
   "cell_type": "code",
   "execution_count": 3,
   "id": "2a0afce8",
   "metadata": {},
   "outputs": [
    {
     "name": "stderr",
     "output_type": "stream",
     "text": [
      "Using a slow image processor as `use_fast` is unset and a slow processor was saved with this model. `use_fast=True` will be the default behavior in v4.52, even if the model was saved with a slow processor. This will result in minor differences in outputs. You'll still be able to use a slow processor with `use_fast=False`.\n",
      "Fetching 2 files: 100%|██████████| 2/2 [02:15<00:00, 67.65s/it] \n",
      "Loading checkpoint shards: 100%|██████████| 2/2 [00:14<00:00,  7.15s/it]\n"
     ]
    }
   ],
   "source": [
    "processor = AutoProcessor.from_pretrained(\"google/medgemma-4b-it\")\n",
    "model = AutoModelForImageTextToText.from_pretrained(\"google/medgemma-4b-it\")"
   ]
  },
  {
   "cell_type": "code",
   "execution_count": 4,
   "id": "fc69abb7",
   "metadata": {},
   "outputs": [],
   "source": [
    "conversation = [\n",
    "    {\n",
    "        'role': 'user',\n",
    "        'content' : [\n",
    "            {'type' : 'text', 'text' : 'What is the capital of France?'}\n",
    "        ]\n",
    "        \n",
    "    }\n",
    "]"
   ]
  },
  {
   "cell_type": "code",
   "execution_count": 8,
   "id": "f4c0058a",
   "metadata": {},
   "outputs": [],
   "source": [
    "class TestOutput(BaseModel):\n",
    "    answer: str = Field(description = \"The answer to the question\")\n",
    "    reasoning: str = Field(description = \"The reasoning for the answer\")"
   ]
  },
  {
   "cell_type": "code",
   "execution_count": 9,
   "id": "ae7b9aaf",
   "metadata": {},
   "outputs": [],
   "source": [
    "inputs = processor.apply_chat_template(\n",
    "    conversation,\n",
    "    add_generation_prompt=True,\n",
    "    tokenize = True,\n",
    "    return_dict = True,\n",
    "    return_tensors = 'pt'\n",
    "    \n",
    ")\n"
   ]
  },
  {
   "cell_type": "code",
   "execution_count": 13,
   "id": "ce0174cc",
   "metadata": {},
   "outputs": [
    {
     "name": "stdout",
     "output_type": "stream",
     "text": [
      "{'input_ids': tensor([[     2,    105,   2364,    107,   3689,    563,    506,   5279,    529,\n",
      "           7001, 236881,    106,    107,    105,   4368,    107]]), 'attention_mask': tensor([[1, 1, 1, 1, 1, 1, 1, 1, 1, 1, 1, 1, 1, 1, 1, 1]]), 'token_type_ids': tensor([[0, 0, 0, 0, 0, 0, 0, 0, 0, 0, 0, 0, 0, 0, 0, 0]])}\n",
      "<bos><start_of_turn>user\n",
      "What is the capital of France?<end_of_turn>\n",
      "<start_of_turn>model\n",
      "\n"
     ]
    }
   ],
   "source": [
    "print(inputs)\n",
    "print(processor.decode(inputs['input_ids'][0]))"
   ]
  },
  {
   "cell_type": "code",
   "execution_count": 14,
   "id": "a9d158e5",
   "metadata": {},
   "outputs": [
    {
     "name": "stdout",
     "output_type": "stream",
     "text": [
      "<bos><start_of_turn>user\n",
      "What is the capital of France?<end_of_turn>\n",
      "<start_of_turn>model\n",
      "The capital of France is **Paris**.\n",
      "<end_of_turn>\n"
     ]
    }
   ],
   "source": [
    "outputs = model.generate(**inputs)\n",
    "\n",
    "response = processor.decode(outputs[0], clean_up_tokenization_spaces=True)\n",
    "\n",
    "print(response)"
   ]
  }
 ],
 "metadata": {
  "kernelspec": {
   "display_name": "Python 3",
   "language": "python",
   "name": "python3"
  },
  "language_info": {
   "codemirror_mode": {
    "name": "ipython",
    "version": 3
   },
   "file_extension": ".py",
   "mimetype": "text/x-python",
   "name": "python",
   "nbconvert_exporter": "python",
   "pygments_lexer": "ipython3",
   "version": "3.11.13"
  }
 },
 "nbformat": 4,
 "nbformat_minor": 5
}
